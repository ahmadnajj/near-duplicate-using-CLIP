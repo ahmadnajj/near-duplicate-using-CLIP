{
  "nbformat": 4,
  "nbformat_minor": 0,
  "metadata": {
    "colab": {
      "provenance": []
    },
    "kernelspec": {
      "name": "python3",
      "display_name": "Python 3"
    },
    "language_info": {
      "name": "python"
    }
  },
  "cells": [
    {
      "cell_type": "code",
      "execution_count": 1,
      "metadata": {
        "id": "lNCWQAbHNUW6"
      },
      "outputs": [],
      "source": [
        "import pandas as pd\n",
        "import os\n",
        "import shutil\n",
        "from PIL import Image\n",
        "from torchvision import transforms\n",
        "from tqdm import tqdm\n",
        "\n"
      ]
    },
    {
      "cell_type": "code",
      "source": [
        "from google.colab import drive\n",
        "drive.mount('/content/drive')"
      ],
      "metadata": {
        "colab": {
          "base_uri": "https://localhost:8080/"
        },
        "id": "3byhRWGkNjoh",
        "outputId": "3fe79026-d3ce-44af-fbe1-21f320409164"
      },
      "execution_count": 2,
      "outputs": [
        {
          "output_type": "stream",
          "name": "stdout",
          "text": [
            "Mounted at /content/drive\n"
          ]
        }
      ]
    },
    {
      "cell_type": "code",
      "source": [
        "# Dossier source et destination pour les images à augmentées\n",
        "source_augmented_image_dir = '/content/drive/MyDrive/projet/new_test_set'\n",
        "destination_augmented_image_dir = ('/content/drive/MyDrive/projet/new_test_set_big')\n",
        "\n",
        "# Copier le dossier des images augmentées\n",
        "shutil.copytree(source_augmented_image_dir, destination_augmented_image_dir)\n",
        "print(f\"Dossier des images augmentées copié vers {destination_augmented_image_dir}\")"
      ],
      "metadata": {
        "colab": {
          "base_uri": "https://localhost:8080/"
        },
        "id": "v-KZJUoxNj76",
        "outputId": "c970fd42-12ba-4f56-f279-37e5e293a928"
      },
      "execution_count": 3,
      "outputs": [
        {
          "output_type": "stream",
          "name": "stdout",
          "text": [
            "Dossier des images augmentées copié vers /content/drive/MyDrive/projet/new_test_set_big\n"
          ]
        }
      ]
    },
    {
      "cell_type": "code",
      "source": [
        "import os\n",
        "from PIL import Image\n",
        "import torchvision.transforms as transforms\n",
        "\n",
        "# Chemin vers le dossier contenant les images\n",
        "folder_path = '/content/drive/MyDrive/projet/new_test_set_big'\n",
        "# Liste des noms de fichiers dans le dossier\n",
        "file_names = os.listdir(folder_path)\n",
        "# Liste des suffixes correspondant à chaque transformation\n",
        "suffixes = ['_flip', '_rotate', '_color', '_resize']\n",
        "\n",
        "# Définir les transformations d'augmentation avec des noms pour chaque étape\n",
        "augmentation_transforms = [\n",
        "    (transforms.RandomHorizontalFlip(), suffixes[0]),\n",
        "    (transforms.RandomRotation(10), suffixes[1]),\n",
        "    (transforms.ColorJitter(brightness=0.2, contrast=0.2, saturation=0.2, hue=0.2), suffixes[2]),\n",
        "    (transforms.RandomResizedCrop(size=(256, 256), scale=(0.8, 1.0)), suffixes[3])\n",
        "]\n",
        "\n",
        "# Fonction pour sauvegarder l'image avec un suffixe spécifique\n",
        "def save_image(image, original_path, suffix):\n",
        "    file_name, file_extension = os.path.splitext(os.path.basename(original_path))\n",
        "    new_file_name = f\"{file_name}{suffix}{file_extension}\"\n",
        "    save_path = os.path.join(os.path.dirname(original_path), new_file_name)\n",
        "    image.save(save_path)\n",
        "# Parcourir chaque fichier dans le dossier\n",
        "for file_name in file_names:\n",
        "    # Construire le chemin complet de l'image\n",
        "    image_path = os.path.join(folder_path, file_name)\n",
        "\n",
        "    # Charger l'image à l'aide de PIL\n",
        "    image = Image.open(image_path)\n",
        "\n",
        "    # Appliquer chaque transformation avec son suffixe correspondant\n",
        "    for transform, suffix in augmentation_transforms:\n",
        "        transformed_image = transform(image)\n",
        "        save_image(transformed_image, image_path, suffix)\n",
        "        print(f\"Image {file_name} avec transformation {suffix} sauvegardée avec succès.\")\n"
      ],
      "metadata": {
        "colab": {
          "base_uri": "https://localhost:8080/"
        },
        "id": "qpCD3kQjOHOg",
        "outputId": "eaf8a493-48aa-4458-a866-f0b703340dcb"
      },
      "execution_count": 5,
      "outputs": [
        {
          "output_type": "stream",
          "name": "stdout",
          "text": [
            "Image test1.jpg avec transformation _flip sauvegardée avec succès.\n",
            "Image test1.jpg avec transformation _rotate sauvegardée avec succès.\n",
            "Image test1.jpg avec transformation _color sauvegardée avec succès.\n",
            "Image test1.jpg avec transformation _resize sauvegardée avec succès.\n",
            "Image test2.jpg avec transformation _flip sauvegardée avec succès.\n",
            "Image test2.jpg avec transformation _rotate sauvegardée avec succès.\n",
            "Image test2.jpg avec transformation _color sauvegardée avec succès.\n",
            "Image test2.jpg avec transformation _resize sauvegardée avec succès.\n",
            "Image test3.jpg avec transformation _flip sauvegardée avec succès.\n",
            "Image test3.jpg avec transformation _rotate sauvegardée avec succès.\n",
            "Image test3.jpg avec transformation _color sauvegardée avec succès.\n",
            "Image test3.jpg avec transformation _resize sauvegardée avec succès.\n",
            "Image test4.jpg avec transformation _flip sauvegardée avec succès.\n",
            "Image test4.jpg avec transformation _rotate sauvegardée avec succès.\n",
            "Image test4.jpg avec transformation _color sauvegardée avec succès.\n",
            "Image test4.jpg avec transformation _resize sauvegardée avec succès.\n",
            "Image test5.jpg avec transformation _flip sauvegardée avec succès.\n",
            "Image test5.jpg avec transformation _rotate sauvegardée avec succès.\n",
            "Image test5.jpg avec transformation _color sauvegardée avec succès.\n",
            "Image test5.jpg avec transformation _resize sauvegardée avec succès.\n"
          ]
        }
      ]
    },
    {
      "cell_type": "code",
      "source": [],
      "metadata": {
        "id": "_32GjppbQHt1"
      },
      "execution_count": null,
      "outputs": []
    }
  ]
}